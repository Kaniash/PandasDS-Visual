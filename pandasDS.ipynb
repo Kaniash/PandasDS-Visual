{
 "cells": [
  {
   "cell_type": "markdown",
   "id": "3e34ecc8",
   "metadata": {},
   "source": [
    "<div style=\"font-family: Arial; font-size: 14px; border-radius: 5px; background-color: #124384ff; padding: 2px; line-height: 2.0; color: #FFFFFF; text-align: left;\">NIM: 240907501033</div>\n",
    "<div style=\"font-family: Arial; font-size: 14px; border-radius: 5px; background-color: #194c8eff; padding: 2px; line-height: 2.0; color: #FFFFFF; text-align: left;\">Nama: Kania Salsabila Haflin</div>"
   ]
  },
  {
   "cell_type": "markdown",
   "id": "be42b986",
   "metadata": {},
   "source": [
    "# <center><div style=\"font-family: Times New Roman; font-size: 20px; border-radius : 10px; background-color: #1c9ca3ff; color: #fff4f4ff; padding: 12px; line-height: 0.7;\">PANDAS & DS + VISUAL</div></center>"
   ]
  },
  {
   "cell_type": "markdown",
   "id": "2b3ed63b",
   "metadata": {},
   "source": [
    "# <center><div style=\"font-family: Arial; font-size: 20px; border-radius: 5px; background-color: #40a2adff; padding: 2px; line-height: 2.0; color: #FFFFFF; text-align: line-height;\">1. Series</div></center>"
   ]
  },
  {
   "cell_type": "code",
   "execution_count": 11,
   "id": "6558df81",
   "metadata": {},
   "outputs": [
    {
     "name": "stdout",
     "output_type": "stream",
     "text": [
      "0    13\n",
      "1    15\n",
      "2    17\n",
      "3    19\n",
      "4    21\n",
      "dtype: int64\n",
      "0         ayam\n",
      "1       burung\n",
      "2    kelelawar\n",
      "dtype: object\n",
      "0    kucing\n",
      "1      sapi\n",
      "2     semut\n",
      "dtype: object\n",
      "ikan =      kucing\n",
      "rumput =      sapi\n",
      "gula =       semut\n",
      "dtype: object\n",
      "0     63\n",
      "1     90\n",
      "2     33\n",
      "3    107\n",
      "4    116\n",
      "dtype: int64\n",
      "0    -7\n",
      "1   -44\n",
      "2   -11\n",
      "3    73\n",
      "4    18\n",
      "dtype: int64\n",
      "0     980\n",
      "1    1541\n",
      "2     242\n",
      "3    1530\n",
      "4    3283\n",
      "dtype: int64\n",
      "0    0.800000\n",
      "1    0.343284\n",
      "2    0.500000\n",
      "3    5.294118\n",
      "4    1.367347\n",
      "dtype: float64\n",
      "Pandas Series dan type\n",
      "0    8\n",
      "1    7\n",
      "2    6\n",
      "3    5\n",
      "4    4\n",
      "dtype: int64\n",
      "<class 'pandas.core.series.Series'>\n",
      "Konver Pandas Series ke Python list\n",
      "[8, 7, 6, 5, 4]\n",
      "<class 'list'>\n",
      "0    6.701995\n",
      "1    5.355510\n",
      "2    3.293921\n",
      "3    4.112201\n",
      "4    4.594124\n",
      "5    7.201031\n",
      "6   -1.070272\n",
      "7    4.170877\n",
      "dtype: float64\n"
     ]
    }
   ],
   "source": [
    "import pandas as pd \n",
    "import numpy as np \n",
    "\n",
    "#P1 \n",
    "#Menampilkan array 1-dimensi\n",
    "ijo = pd.Series([13, 15, 17, 19, 21])\n",
    "print(ijo)\n",
    "\n",
    "#P2\n",
    "sayap = pd.Series(['ayam', 'burung', 'kelelawar'])\n",
    "kaki = np.array(['kucing', 'sapi', 'semut'])\n",
    "sayap_kaki = pd.Series(kaki)\n",
    "\n",
    "print(sayap)\n",
    "print(sayap_kaki)\n",
    "\n",
    "#Mengatur indeks pada numpy array_np di atas\n",
    "sayap_kaki = pd.Series(kaki, index=['ikan =', 'rumput =', 'gula ='])\n",
    "print(sayap_kaki)\n",
    "\n",
    "#P3 contoh operasi\n",
    "ds1 = pd.Series([28, 23, 11, 90, 67])\n",
    "ds2 = pd.Series([35, 67, 22, 17, 49])\n",
    "dsa = ds1 + ds2  \n",
    "dsb = ds1 - ds2\n",
    "dsc = ds1 * ds2\n",
    "dsd = ds1 / ds2\n",
    "\n",
    "print(dsa)\n",
    "print(dsb)\n",
    "print(dsc)\n",
    "print(dsd)\n",
    "\n",
    "#P4 konver pandas module Series ke python list\n",
    "import pandas as pd\n",
    "\n",
    "ds = pd.Series([8, 7, 6, 5, 4])\n",
    "print(\"Pandas Series dan type\")\n",
    "print(ds)\n",
    "print(type(ds))\n",
    "print(\"Konver Pandas Series ke Python list\")\n",
    "print(ds.tolist())\n",
    "print(type(ds.tolist()))\n",
    "\n",
    "#P6\n",
    "import pandas as pd\n",
    "import numpy as np\n",
    "\n",
    "#Generate angka random\n",
    "num_state = np.random.RandomState(70)  \n",
    "num_series = pd.Series(num_state.normal(5, 2, 8))\n",
    "print(num_series)"
   ]
  },
  {
   "cell_type": "markdown",
   "id": "fa72c65d",
   "metadata": {},
   "source": [
    "# <center><div style=\"font-family: Arial; font-size: 20px; border-radius: 5px; background-color: #40a2adff; padding: 2px; line-height: 2.0; color: #FFFFFF; text-align: line-height;\">2. Data Frame</div></center>"
   ]
  },
  {
   "cell_type": "code",
   "execution_count": 12,
   "id": "31273742",
   "metadata": {},
   "outputs": [
    {
     "name": "stdout",
     "output_type": "stream",
     "text": [
      "     Nama  Harga\n",
      "1    Saos   15.0\n",
      "2  Sambal    7.0\n",
      "3   Kecap   10.0\n"
     ]
    }
   ],
   "source": [
    "import pandas as pd\n",
    "\n",
    "data = {\n",
    "    'Nama': ['Saos', 'Sambal', 'Kecap'],\n",
    "    'Harga': [15.000, 7.000, 10.000]\n",
    "}\n",
    "\n",
    "#DataFrame dengan parameter tambahan\n",
    "df = pd.DataFrame(\n",
    "    data,\n",
    "    index=['1', '2', '3'],             \n",
    "    columns=['Nama', 'Harga'],                                    \n",
    "    copy=True                            \n",
    ")\n",
    "\n",
    "print(df)"
   ]
  },
  {
   "cell_type": "markdown",
   "id": "2aad2369",
   "metadata": {},
   "source": [
    "# <center><div style=\"font-family: Arial; font-size: 20px; border-radius: 5px; background-color: #40a2adff; padding: 2px; line-height: 2.0; color: #FFFFFF; text-align: line-height;\">3. Load Data</div></center>"
   ]
  },
  {
   "cell_type": "code",
   "execution_count": 13,
   "id": "69cb3d35",
   "metadata": {},
   "outputs": [
    {
     "data": {
      "text/html": [
       "<div>\n",
       "<style scoped>\n",
       "    .dataframe tbody tr th:only-of-type {\n",
       "        vertical-align: middle;\n",
       "    }\n",
       "\n",
       "    .dataframe tbody tr th {\n",
       "        vertical-align: top;\n",
       "    }\n",
       "\n",
       "    .dataframe thead th {\n",
       "        text-align: right;\n",
       "    }\n",
       "</style>\n",
       "<table border=\"1\" class=\"dataframe\">\n",
       "  <thead>\n",
       "    <tr style=\"text-align: right;\">\n",
       "      <th></th>\n",
       "      <th>Faktur</th>\n",
       "      <th>Tanggal Penjualan</th>\n",
       "      <th>Jenis Kelamin</th>\n",
       "      <th>Jenis Barang</th>\n",
       "      <th>Jumlah</th>\n",
       "      <th>Harga Satuan</th>\n",
       "    </tr>\n",
       "  </thead>\n",
       "  <tbody>\n",
       "    <tr>\n",
       "      <th>1</th>\n",
       "      <td>F002</td>\n",
       "      <td>2023-01-17</td>\n",
       "      <td>Wanita</td>\n",
       "      <td>Pakaian</td>\n",
       "      <td>1</td>\n",
       "      <td>200000</td>\n",
       "    </tr>\n",
       "    <tr>\n",
       "      <th>2</th>\n",
       "      <td>F003</td>\n",
       "      <td>2023-01-20</td>\n",
       "      <td>Pria</td>\n",
       "      <td>Elektronik</td>\n",
       "      <td>1</td>\n",
       "      <td>500000</td>\n",
       "    </tr>\n",
       "    <tr>\n",
       "      <th>3</th>\n",
       "      <td>F004</td>\n",
       "      <td>2023-01-22</td>\n",
       "      <td>Wanita</td>\n",
       "      <td>Kosmetik</td>\n",
       "      <td>3</td>\n",
       "      <td>100000</td>\n",
       "    </tr>\n",
       "    <tr>\n",
       "      <th>4</th>\n",
       "      <td>F005</td>\n",
       "      <td>2023-01-25</td>\n",
       "      <td>Pria</td>\n",
       "      <td>Pakaian</td>\n",
       "      <td>2</td>\n",
       "      <td>200000</td>\n",
       "    </tr>\n",
       "    <tr>\n",
       "      <th>5</th>\n",
       "      <td>F006</td>\n",
       "      <td>2023-01-28</td>\n",
       "      <td>Wanita</td>\n",
       "      <td>Elektronik</td>\n",
       "      <td>1</td>\n",
       "      <td>500000</td>\n",
       "    </tr>\n",
       "  </tbody>\n",
       "</table>\n",
       "</div>"
      ],
      "text/plain": [
       "  Faktur Tanggal Penjualan Jenis Kelamin Jenis Barang  Jumlah  Harga Satuan\n",
       "1   F002        2023-01-17        Wanita      Pakaian       1        200000\n",
       "2   F003        2023-01-20          Pria   Elektronik       1        500000\n",
       "3   F004        2023-01-22        Wanita     Kosmetik       3        100000\n",
       "4   F005        2023-01-25          Pria      Pakaian       2        200000\n",
       "5   F006        2023-01-28        Wanita   Elektronik       1        500000"
      ]
     },
     "execution_count": 13,
     "metadata": {},
     "output_type": "execute_result"
    }
   ],
   "source": [
    "#P7.1 load data dari folder yang sama dengan coding\n",
    "df = pd.read_csv('data_penjualan.csv') \n",
    "df.head(4) \n",
    "df.tail()"
   ]
  },
  {
   "cell_type": "markdown",
   "id": "348b7769",
   "metadata": {},
   "source": [
    "# <center><div style=\"font-family: Arial; font-size: 20px; border-radius: 5px; background-color: #40a2adff; padding: 2px; line-height: 2.0; color: #FFFFFF; text-align: line-height;\">4. Ekstrak & Manipulasi Data Frame</div></center>"
   ]
  },
  {
   "cell_type": "code",
   "execution_count": 14,
   "id": "f733dc8c",
   "metadata": {},
   "outputs": [
    {
     "data": {
      "text/plain": [
       "0    Elektronik\n",
       "1       Pakaian\n",
       "2    Elektronik\n",
       "3      Kosmetik\n",
       "4       Pakaian\n",
       "Name: Jenis Barang, dtype: object"
      ]
     },
     "execution_count": 14,
     "metadata": {},
     "output_type": "execute_result"
    }
   ],
   "source": [
    "#P8 menampilkan tabel jenis barang penjulan\n",
    "import pandas as pd\n",
    "df = pd.read_csv('data_penjualan.csv')\n",
    "feb = df[\"Jenis Barang\"]\n",
    "feb.head()\n"
   ]
  },
  {
   "cell_type": "code",
   "execution_count": 15,
   "id": "cb442ac4",
   "metadata": {},
   "outputs": [
    {
     "data": {
      "text/html": [
       "<div>\n",
       "<style scoped>\n",
       "    .dataframe tbody tr th:only-of-type {\n",
       "        vertical-align: middle;\n",
       "    }\n",
       "\n",
       "    .dataframe tbody tr th {\n",
       "        vertical-align: top;\n",
       "    }\n",
       "\n",
       "    .dataframe thead th {\n",
       "        text-align: right;\n",
       "    }\n",
       "</style>\n",
       "<table border=\"1\" class=\"dataframe\">\n",
       "  <thead>\n",
       "    <tr style=\"text-align: right;\">\n",
       "      <th></th>\n",
       "      <th>Harga Satuan</th>\n",
       "      <th>Jumlah</th>\n",
       "    </tr>\n",
       "  </thead>\n",
       "  <tbody>\n",
       "    <tr>\n",
       "      <th>0</th>\n",
       "      <td>500000</td>\n",
       "      <td>2</td>\n",
       "    </tr>\n",
       "    <tr>\n",
       "      <th>1</th>\n",
       "      <td>200000</td>\n",
       "      <td>1</td>\n",
       "    </tr>\n",
       "    <tr>\n",
       "      <th>2</th>\n",
       "      <td>500000</td>\n",
       "      <td>1</td>\n",
       "    </tr>\n",
       "    <tr>\n",
       "      <th>3</th>\n",
       "      <td>100000</td>\n",
       "      <td>3</td>\n",
       "    </tr>\n",
       "    <tr>\n",
       "      <th>4</th>\n",
       "      <td>200000</td>\n",
       "      <td>2</td>\n",
       "    </tr>\n",
       "  </tbody>\n",
       "</table>\n",
       "</div>"
      ],
      "text/plain": [
       "   Harga Satuan  Jumlah\n",
       "0        500000       2\n",
       "1        200000       1\n",
       "2        500000       1\n",
       "3        100000       3\n",
       "4        200000       2"
      ]
     },
     "execution_count": 15,
     "metadata": {},
     "output_type": "execute_result"
    }
   ],
   "source": [
    "#P9 \n",
    "df= pd.read_csv('data_penjualan.csv')\n",
    "df[['Harga Satuan','Jumlah']].head(5)"
   ]
  },
  {
   "cell_type": "markdown",
   "id": "244596a2",
   "metadata": {},
   "source": [
    "# <center><div style=\"font-family: Arial; font-size: 20px; border-radius: 5px; background-color: #054249ff; padding: 2px; line-height: 2.0; color: #FFFFFF; text-align: line-height;\">Jumlah Barang per Harga Satuan (Bar Plot)</div></center>"
   ]
  },
  {
   "cell_type": "code",
   "execution_count": 16,
   "id": "93df9f17",
   "metadata": {},
   "outputs": [
    {
     "name": "stderr",
     "output_type": "stream",
     "text": [
      "C:\\Users\\lenovo\\AppData\\Local\\Temp\\ipykernel_7112\\2650792828.py:5: FutureWarning: \n",
      "\n",
      "Passing `palette` without assigning `hue` is deprecated and will be removed in v0.14.0. Assign the `x` variable to `hue` and set `legend=False` for the same effect.\n",
      "\n",
      "  sns.barplot(data=jumlah_per_harga, x='Harga Satuan', y='Jumlah', palette='mako')\n"
     ]
    },
    {
     "data": {
      "image/png": "[encoded data removed]",
      "text/plain": [
       "<Figure size 800x500 with 1 Axes>"
      ]
     },
     "metadata": {},
     "output_type": "display_data"
    }
   ],
   "source": [
    "#Hitung total jumlah per harga satuan\n",
    "jumlah_per_harga = df.groupby('Harga Satuan')['Jumlah'].sum().reset_index()\n",
    "\n",
    "plt.figure(figsize=(8,5))\n",
    "sns.barplot(data=jumlah_per_harga, x='Harga Satuan', y='Jumlah', palette='mako')\n",
    "plt.title('Jumlah Barang per Harga Satuan')\n",
    "plt.xlabel('Harga Satuan (Rp)')\n",
    "plt.ylabel('Jumlah Total')\n",
    "plt.tight_layout()\n",
    "plt.show()"
   ]
  },
  {
   "cell_type": "code",
   "execution_count": 17,
   "id": "acdff385",
   "metadata": {},
   "outputs": [
    {
     "data": {
      "text/plain": [
       "['penjual no 1',\n",
       " 'penjual no 2',\n",
       " 'penjual no 3',\n",
       " 'penjual no 4',\n",
       " 'penjual no 5',\n",
       " 'penjual no 6',\n",
       " 'penjual no 7',\n",
       " 'penjual no 8',\n",
       " 'penjual no 9',\n",
       " 'penjual no 10']"
      ]
     },
     "execution_count": 17,
     "metadata": {},
     "output_type": "execute_result"
    }
   ],
   "source": [
    "#P10.1\n",
    "penjual = ['penjual no ' + str(i) for i in range(1, 11)]\n",
    "penjual"
   ]
  },
  {
   "cell_type": "code",
   "execution_count": 18,
   "id": "26495b27",
   "metadata": {},
   "outputs": [
    {
     "name": "stdout",
     "output_type": "stream",
     "text": [
      "  Faktur Tanggal Penjualan Jenis Kelamin Jenis Barang  Jumlah  Harga Satuan  \\\n",
      "0   F001        2023-01-15          Pria   Elektronik       2        500000   \n",
      "1   F002        2023-01-17        Wanita      Pakaian       1        200000   \n",
      "2   F003        2023-01-20          Pria   Elektronik       1        500000   \n",
      "3   F004        2023-01-22        Wanita     Kosmetik       3        100000   \n",
      "4   F005        2023-01-25          Pria      Pakaian       2        200000   \n",
      "\n",
      "         urutan  \n",
      "0  penjual no 1  \n",
      "1  penjual no 2  \n",
      "2  penjual no 3  \n",
      "3  penjual no 4  \n",
      "4  penjual no 5  \n"
     ]
    }
   ],
   "source": [
    "#P10.2\n",
    "import pandas as pd\n",
    "\n",
    "df = pd.read_csv('data_penjualan.csv')  \n",
    "penjual = ['penjual no ' + str(i) for i in range(1, len(df) + 1)]\n",
    "df['urutan'] = penjual\n",
    "print(df.head())\n"
   ]
  },
  {
   "cell_type": "code",
   "execution_count": 19,
   "id": "618888af",
   "metadata": {},
   "outputs": [
    {
     "data": {
      "text/html": [
       "<div>\n",
       "<style scoped>\n",
       "    .dataframe tbody tr th:only-of-type {\n",
       "        vertical-align: middle;\n",
       "    }\n",
       "\n",
       "    .dataframe tbody tr th {\n",
       "        vertical-align: top;\n",
       "    }\n",
       "\n",
       "    .dataframe thead th {\n",
       "        text-align: right;\n",
       "    }\n",
       "</style>\n",
       "<table border=\"1\" class=\"dataframe\">\n",
       "  <thead>\n",
       "    <tr style=\"text-align: right;\">\n",
       "      <th></th>\n",
       "      <th>Faktur</th>\n",
       "      <th>Tanggal Penjualan</th>\n",
       "      <th>Jenis Kelamin</th>\n",
       "      <th>Jenis Barang</th>\n",
       "      <th>Jumlah</th>\n",
       "      <th>Harga Satuan</th>\n",
       "      <th>urutan</th>\n",
       "      <th>no</th>\n",
       "    </tr>\n",
       "  </thead>\n",
       "  <tbody>\n",
       "    <tr>\n",
       "      <th>0</th>\n",
       "      <td>F001</td>\n",
       "      <td>2023-01-15</td>\n",
       "      <td>Pria</td>\n",
       "      <td>Elektronik</td>\n",
       "      <td>2</td>\n",
       "      <td>500000</td>\n",
       "      <td>penjual no 1</td>\n",
       "      <td>1</td>\n",
       "    </tr>\n",
       "    <tr>\n",
       "      <th>1</th>\n",
       "      <td>F002</td>\n",
       "      <td>2023-01-17</td>\n",
       "      <td>Wanita</td>\n",
       "      <td>Pakaian</td>\n",
       "      <td>1</td>\n",
       "      <td>200000</td>\n",
       "      <td>penjual no 2</td>\n",
       "      <td>2</td>\n",
       "    </tr>\n",
       "    <tr>\n",
       "      <th>2</th>\n",
       "      <td>F003</td>\n",
       "      <td>2023-01-20</td>\n",
       "      <td>Pria</td>\n",
       "      <td>Elektronik</td>\n",
       "      <td>1</td>\n",
       "      <td>500000</td>\n",
       "      <td>penjual no 3</td>\n",
       "      <td>3</td>\n",
       "    </tr>\n",
       "    <tr>\n",
       "      <th>3</th>\n",
       "      <td>F004</td>\n",
       "      <td>2023-01-22</td>\n",
       "      <td>Wanita</td>\n",
       "      <td>Kosmetik</td>\n",
       "      <td>3</td>\n",
       "      <td>100000</td>\n",
       "      <td>penjual no 4</td>\n",
       "      <td>4</td>\n",
       "    </tr>\n",
       "    <tr>\n",
       "      <th>4</th>\n",
       "      <td>F005</td>\n",
       "      <td>2023-01-25</td>\n",
       "      <td>Pria</td>\n",
       "      <td>Pakaian</td>\n",
       "      <td>2</td>\n",
       "      <td>200000</td>\n",
       "      <td>penjual no 5</td>\n",
       "      <td>5</td>\n",
       "    </tr>\n",
       "    <tr>\n",
       "      <th>5</th>\n",
       "      <td>F006</td>\n",
       "      <td>2023-01-28</td>\n",
       "      <td>Wanita</td>\n",
       "      <td>Elektronik</td>\n",
       "      <td>1</td>\n",
       "      <td>500000</td>\n",
       "      <td>penjual no 6</td>\n",
       "      <td>6</td>\n",
       "    </tr>\n",
       "  </tbody>\n",
       "</table>\n",
       "</div>"
      ],
      "text/plain": [
       "  Faktur Tanggal Penjualan Jenis Kelamin Jenis Barang  Jumlah  Harga Satuan  \\\n",
       "0   F001        2023-01-15          Pria   Elektronik       2        500000   \n",
       "1   F002        2023-01-17        Wanita      Pakaian       1        200000   \n",
       "2   F003        2023-01-20          Pria   Elektronik       1        500000   \n",
       "3   F004        2023-01-22        Wanita     Kosmetik       3        100000   \n",
       "4   F005        2023-01-25          Pria      Pakaian       2        200000   \n",
       "5   F006        2023-01-28        Wanita   Elektronik       1        500000   \n",
       "\n",
       "         urutan  no  \n",
       "0  penjual no 1   1  \n",
       "1  penjual no 2   2  \n",
       "2  penjual no 3   3  \n",
       "3  penjual no 4   4  \n",
       "4  penjual no 5   5  \n",
       "5  penjual no 6   6  "
      ]
     },
     "execution_count": 19,
     "metadata": {},
     "output_type": "execute_result"
    }
   ],
   "source": [
    "# P.11 Ekstraksi Angka dari Teks\n",
    "df['no'] = df['urutan'].str.extract('(\\d+)').astype('int64')\n",
    "df"
   ]
  },
  {
   "cell_type": "markdown",
   "id": "80c4161e",
   "metadata": {},
   "source": [
    "# <center><div style=\"font-family: Arial; font-size: 20px; border-radius: 5px; background-color: #40a2adff; padding: 2px; line-height: 2.0; color: #FFFFFF; text-align: line-height;\">5. Memilih Data Data Berdsarkan Baris & Kolom</div></center>"
   ]
  },
  {
   "cell_type": "code",
   "execution_count": 20,
   "id": "3fe24282",
   "metadata": {},
   "outputs": [
    {
     "data": {
      "text/html": [
       "<div>\n",
       "<style scoped>\n",
       "    .dataframe tbody tr th:only-of-type {\n",
       "        vertical-align: middle;\n",
       "    }\n",
       "\n",
       "    .dataframe tbody tr th {\n",
       "        vertical-align: top;\n",
       "    }\n",
       "\n",
       "    .dataframe thead th {\n",
       "        text-align: right;\n",
       "    }\n",
       "</style>\n",
       "<table border=\"1\" class=\"dataframe\">\n",
       "  <thead>\n",
       "    <tr style=\"text-align: right;\">\n",
       "      <th></th>\n",
       "      <th>Faktur</th>\n",
       "      <th>Tanggal Penjualan</th>\n",
       "      <th>Jenis Kelamin</th>\n",
       "      <th>Jenis Barang</th>\n",
       "      <th>Jumlah</th>\n",
       "      <th>Harga Satuan</th>\n",
       "      <th>urutan</th>\n",
       "      <th>no</th>\n",
       "    </tr>\n",
       "  </thead>\n",
       "  <tbody>\n",
       "    <tr>\n",
       "      <th>0</th>\n",
       "      <td>F001</td>\n",
       "      <td>2023-01-15</td>\n",
       "      <td>Pria</td>\n",
       "      <td>Elektronik</td>\n",
       "      <td>2</td>\n",
       "      <td>500000</td>\n",
       "      <td>penjual no 1</td>\n",
       "      <td>1</td>\n",
       "    </tr>\n",
       "  </tbody>\n",
       "</table>\n",
       "</div>"
      ],
      "text/plain": [
       "  Faktur Tanggal Penjualan Jenis Kelamin Jenis Barang  Jumlah  Harga Satuan  \\\n",
       "0   F001        2023-01-15          Pria   Elektronik       2        500000   \n",
       "\n",
       "         urutan  no  \n",
       "0  penjual no 1   1  "
      ]
     },
     "execution_count": 20,
     "metadata": {},
     "output_type": "execute_result"
    }
   ],
   "source": [
    "#P12.1 menampilkan baris dengan indeks berlabel 0\n",
    "df.loc[0]\n",
    "df.iloc[0]\n",
    "df[:1]"
   ]
  },
  {
   "cell_type": "code",
   "execution_count": 21,
   "id": "5c127ada",
   "metadata": {},
   "outputs": [
    {
     "data": {
      "text/html": [
       "<div>\n",
       "<style scoped>\n",
       "    .dataframe tbody tr th:only-of-type {\n",
       "        vertical-align: middle;\n",
       "    }\n",
       "\n",
       "    .dataframe tbody tr th {\n",
       "        vertical-align: top;\n",
       "    }\n",
       "\n",
       "    .dataframe thead th {\n",
       "        text-align: right;\n",
       "    }\n",
       "</style>\n",
       "<table border=\"1\" class=\"dataframe\">\n",
       "  <thead>\n",
       "    <tr style=\"text-align: right;\">\n",
       "      <th></th>\n",
       "      <th>Jenis Barang</th>\n",
       "    </tr>\n",
       "  </thead>\n",
       "  <tbody>\n",
       "    <tr>\n",
       "      <th>0</th>\n",
       "      <td>Elektronik</td>\n",
       "    </tr>\n",
       "  </tbody>\n",
       "</table>\n",
       "</div>"
      ],
      "text/plain": [
       "  Jenis Barang\n",
       "0   Elektronik"
      ]
     },
     "execution_count": 21,
     "metadata": {},
     "output_type": "execute_result"
    }
   ],
   "source": [
    "#P12.2 menampilkan baris indeks berlabel 0 dan kolom berlabel jan\n",
    "df.loc[0, 'Jenis Barang']\n",
    "df.iloc[0, 1]\n",
    "df[['Jenis Barang']][:1]"
   ]
  },
  {
   "cell_type": "code",
   "execution_count": 22,
   "id": "af9da46e",
   "metadata": {},
   "outputs": [
    {
     "data": {
      "text/html": [
       "<div>\n",
       "<style scoped>\n",
       "    .dataframe tbody tr th:only-of-type {\n",
       "        vertical-align: middle;\n",
       "    }\n",
       "\n",
       "    .dataframe tbody tr th {\n",
       "        vertical-align: top;\n",
       "    }\n",
       "\n",
       "    .dataframe thead th {\n",
       "        text-align: right;\n",
       "    }\n",
       "</style>\n",
       "<table border=\"1\" class=\"dataframe\">\n",
       "  <thead>\n",
       "    <tr style=\"text-align: right;\">\n",
       "      <th></th>\n",
       "      <th>Faktur</th>\n",
       "      <th>Jenis Barang</th>\n",
       "      <th>Jumlah</th>\n",
       "    </tr>\n",
       "  </thead>\n",
       "  <tbody>\n",
       "    <tr>\n",
       "      <th>0</th>\n",
       "      <td>F001</td>\n",
       "      <td>Elektronik</td>\n",
       "      <td>2</td>\n",
       "    </tr>\n",
       "    <tr>\n",
       "      <th>1</th>\n",
       "      <td>F002</td>\n",
       "      <td>Pakaian</td>\n",
       "      <td>1</td>\n",
       "    </tr>\n",
       "    <tr>\n",
       "      <th>2</th>\n",
       "      <td>F003</td>\n",
       "      <td>Elektronik</td>\n",
       "      <td>1</td>\n",
       "    </tr>\n",
       "  </tbody>\n",
       "</table>\n",
       "</div>"
      ],
      "text/plain": [
       "  Faktur Jenis Barang  Jumlah\n",
       "0   F001   Elektronik       2\n",
       "1   F002      Pakaian       1\n",
       "2   F003   Elektronik       1"
      ]
     },
     "execution_count": 22,
     "metadata": {},
     "output_type": "execute_result"
    }
   ],
   "source": [
    "#P12.3 menampilkan baris 0-3, kolom 0(Faktur), 3(Jenis Barang), 4(Jumlah)\n",
    "df.iloc[0:3, [0, 3, 4]]"
   ]
  },
  {
   "cell_type": "markdown",
   "id": "e0a00534",
   "metadata": {},
   "source": [
    "# <center><div style=\"font-family: Arial; font-size: 20px; border-radius: 5px; background-color: #054249ff; padding: 2px; line-height: 2.0; color: #FFFFFF; text-align: line-height;\">Jumlah Barang per Jenis Barang (Bar Plot)</div></center>"
   ]
  },
  {
   "cell_type": "code",
   "execution_count": 23,
   "id": "6214cea3",
   "metadata": {},
   "outputs": [
    {
     "name": "stderr",
     "output_type": "stream",
     "text": [
      "C:\\Users\\lenovo\\AppData\\Local\\Temp\\ipykernel_7112\\3995050771.py:11: FutureWarning: \n",
      "\n",
      "Passing `palette` without assigning `hue` is deprecated and will be removed in v0.14.0. Assign the `x` variable to `hue` and set `legend=False` for the same effect.\n",
      "\n",
      "  sns.barplot(data=jumlah_per_barang, x='Jenis Barang', y='Jumlah', palette='coolwarm')\n"
     ]
    },
    {
     "data": {
      "image/png": "[encoded data removed]",
      "text/plain": [
       "<Figure size 800x500 with 1 Axes>"
      ]
     },
     "metadata": {},
     "output_type": "display_data"
    }
   ],
   "source": [
    "import pandas as pd\n",
    "import matplotlib.pyplot as plt\n",
    "import seaborn as sns\n",
    "\n",
    "df = pd.read_csv('data_penjualan.csv')\n",
    "\n",
    "#Hitung total jumlah per jenis barang\n",
    "jumlah_per_barang = df.groupby('Jenis Barang')['Jumlah'].sum().reset_index()\n",
    "\n",
    "plt.figure(figsize=(8,5))\n",
    "sns.barplot(data=jumlah_per_barang, x='Jenis Barang', y='Jumlah', palette='coolwarm')\n",
    "plt.title('Jumlah Barang Terjual per Jenis Barang')\n",
    "plt.xlabel('Jenis Barang')\n",
    "plt.ylabel('Jumlah Terjual')\n",
    "plt.tight_layout()\n",
    "plt.show()"
   ]
  },
  {
   "cell_type": "markdown",
   "id": "25c55822",
   "metadata": {},
   "source": [
    "# <center><div style=\"font-family: Arial; font-size: 20px; border-radius: 5px; background-color: #054249ff; padding: 2px; line-height: 2.0; color: #FFFFFF; text-align: line-height;\">Jumlah Barang Berdasarkan Urutan Faktur (Line Plot)</div></center>"
   ]
  },
  {
   "cell_type": "code",
   "execution_count": 24,
   "id": "8d1da41f",
   "metadata": {},
   "outputs": [
    {
     "data": {
      "image/png": "[encoded data removed]",
      "text/plain": [
       "<Figure size 800x500 with 1 Axes>"
      ]
     },
     "metadata": {},
     "output_type": "display_data"
    }
   ],
   "source": [
    "plt.figure(figsize=(8,5))\n",
    "sns.lineplot(data=df, x='Faktur', y='Jumlah', marker='o', color='darkorange')\n",
    "plt.title('Jumlah Barang Berdasarkan Faktur')\n",
    "plt.xlabel('Faktur')\n",
    "plt.ylabel('Jumlah')\n",
    "plt.grid(True)\n",
    "plt.tight_layout()\n",
    "plt.show()"
   ]
  },
  {
   "cell_type": "markdown",
   "id": "d83bb295",
   "metadata": {},
   "source": [
    "# <center><div style=\"font-family: Arial; font-size: 20px; border-radius: 5px; background-color: #054249ff; padding: 2px; line-height: 2.0; color: #FFFFFF; text-align: line-height;\">Proporsi Jumlah Barang per Jenis Barang (Pie Chart)</div></center>"
   ]
  },
  {
   "cell_type": "code",
   "execution_count": 25,
   "id": "97d5b4f1",
   "metadata": {},
   "outputs": [
    {
     "data": {
      "image/png": "[encoded data removed]",
      "text/plain": [
       "<Figure size 600x600 with 1 Axes>"
      ]
     },
     "metadata": {},
     "output_type": "display_data"
    }
   ],
   "source": [
    "jumlah_per_barang = df.groupby('Jenis Barang')['Jumlah'].sum()\n",
    "\n",
    "plt.figure(figsize=(6,6))\n",
    "plt.pie(jumlah_per_barang, labels=jumlah_per_barang.index, autopct='%1.1f%%', startangle=140, colors=sns.color_palette('pastel'))\n",
    "plt.title('Proporsi Jumlah Barang per Jenis Barang')\n",
    "plt.tight_layout()\n",
    "plt.show()"
   ]
  },
  {
   "cell_type": "code",
   "execution_count": 26,
   "id": "759e6339",
   "metadata": {},
   "outputs": [
    {
     "data": {
      "text/html": [
       "<div>\n",
       "<style scoped>\n",
       "    .dataframe tbody tr th:only-of-type {\n",
       "        vertical-align: middle;\n",
       "    }\n",
       "\n",
       "    .dataframe tbody tr th {\n",
       "        vertical-align: top;\n",
       "    }\n",
       "\n",
       "    .dataframe thead th {\n",
       "        text-align: right;\n",
       "    }\n",
       "</style>\n",
       "<table border=\"1\" class=\"dataframe\">\n",
       "  <thead>\n",
       "    <tr style=\"text-align: right;\">\n",
       "      <th></th>\n",
       "      <th>Jumlah</th>\n",
       "      <th>Harga Satuan</th>\n",
       "    </tr>\n",
       "  </thead>\n",
       "  <tbody>\n",
       "    <tr>\n",
       "      <th>0</th>\n",
       "      <td>2</td>\n",
       "      <td>500000</td>\n",
       "    </tr>\n",
       "    <tr>\n",
       "      <th>1</th>\n",
       "      <td>1</td>\n",
       "      <td>200000</td>\n",
       "    </tr>\n",
       "    <tr>\n",
       "      <th>2</th>\n",
       "      <td>1</td>\n",
       "      <td>500000</td>\n",
       "    </tr>\n",
       "    <tr>\n",
       "      <th>3</th>\n",
       "      <td>3</td>\n",
       "      <td>100000</td>\n",
       "    </tr>\n",
       "    <tr>\n",
       "      <th>4</th>\n",
       "      <td>2</td>\n",
       "      <td>200000</td>\n",
       "    </tr>\n",
       "    <tr>\n",
       "      <th>5</th>\n",
       "      <td>1</td>\n",
       "      <td>500000</td>\n",
       "    </tr>\n",
       "  </tbody>\n",
       "</table>\n",
       "</div>"
      ],
      "text/plain": [
       "   Jumlah  Harga Satuan\n",
       "0       2        500000\n",
       "1       1        200000\n",
       "2       1        500000\n",
       "3       3        100000\n",
       "4       2        200000\n",
       "5       1        500000"
      ]
     },
     "execution_count": 26,
     "metadata": {},
     "output_type": "execute_result"
    }
   ],
   "source": [
    "#P12.4 Menampilkan semua baris pada kolom **Jumlah** dan **Harga Satuan**\n",
    "df.loc[:, ['Jumlah', 'Harga Satuan']]\n",
    "df.iloc[:, [0, 4]]\n",
    "df[['Jumlah', 'Harga Satuan']]"
   ]
  },
  {
   "cell_type": "code",
   "execution_count": 27,
   "id": "d76a4acf",
   "metadata": {},
   "outputs": [
    {
     "data": {
      "text/html": [
       "<div>\n",
       "<style scoped>\n",
       "    .dataframe tbody tr th:only-of-type {\n",
       "        vertical-align: middle;\n",
       "    }\n",
       "\n",
       "    .dataframe tbody tr th {\n",
       "        vertical-align: top;\n",
       "    }\n",
       "\n",
       "    .dataframe thead th {\n",
       "        text-align: right;\n",
       "    }\n",
       "</style>\n",
       "<table border=\"1\" class=\"dataframe\">\n",
       "  <thead>\n",
       "    <tr style=\"text-align: right;\">\n",
       "      <th></th>\n",
       "      <th>Faktur</th>\n",
       "      <th>Tanggal Penjualan</th>\n",
       "      <th>Jenis Kelamin</th>\n",
       "    </tr>\n",
       "  </thead>\n",
       "  <tbody>\n",
       "    <tr>\n",
       "      <th>0</th>\n",
       "      <td>F001</td>\n",
       "      <td>2023-01-15</td>\n",
       "      <td>Pria</td>\n",
       "    </tr>\n",
       "    <tr>\n",
       "      <th>1</th>\n",
       "      <td>F002</td>\n",
       "      <td>2023-01-17</td>\n",
       "      <td>Wanita</td>\n",
       "    </tr>\n",
       "    <tr>\n",
       "      <th>2</th>\n",
       "      <td>F003</td>\n",
       "      <td>2023-01-20</td>\n",
       "      <td>Pria</td>\n",
       "    </tr>\n",
       "    <tr>\n",
       "      <th>3</th>\n",
       "      <td>F004</td>\n",
       "      <td>2023-01-22</td>\n",
       "      <td>Wanita</td>\n",
       "    </tr>\n",
       "    <tr>\n",
       "      <th>4</th>\n",
       "      <td>F005</td>\n",
       "      <td>2023-01-25</td>\n",
       "      <td>Pria</td>\n",
       "    </tr>\n",
       "    <tr>\n",
       "      <th>5</th>\n",
       "      <td>F006</td>\n",
       "      <td>2023-01-28</td>\n",
       "      <td>Wanita</td>\n",
       "    </tr>\n",
       "  </tbody>\n",
       "</table>\n",
       "</div>"
      ],
      "text/plain": [
       "  Faktur Tanggal Penjualan Jenis Kelamin\n",
       "0   F001        2023-01-15          Pria\n",
       "1   F002        2023-01-17        Wanita\n",
       "2   F003        2023-01-20          Pria\n",
       "3   F004        2023-01-22        Wanita\n",
       "4   F005        2023-01-25          Pria\n",
       "5   F006        2023-01-28        Wanita"
      ]
     },
     "execution_count": 27,
     "metadata": {},
     "output_type": "execute_result"
    }
   ],
   "source": [
    "#P12.5 Menampilkan semua baris pada kolom Faktur sampai Jenis Kelamin\n",
    "df.loc[:, 'Faktur':'Jenis Kelamin']\n",
    "df.iloc[:, :3]\n",
    "df[['Faktur', 'Tanggal Penjualan', 'Jenis Kelamin']]"
   ]
  },
  {
   "cell_type": "markdown",
   "id": "a9e0891e",
   "metadata": {},
   "source": [
    "# <center><div style=\"font-family: Arial; font-size: 20px; border-radius: 5px; background-color: #054249ff; padding: 2px; line-height: 2.0; color: #FFFFFF; text-align: line-height;\">Transaksi Harian Berdasarkan Jenis Kelamin (Grafik Gabungan)</div></center>"
   ]
  },
  {
   "cell_type": "code",
   "execution_count": 28,
   "id": "9bd1149f",
   "metadata": {},
   "outputs": [
    {
     "data": {
      "image/png": "[encoded data removed]",
      "text/plain": [
       "<Figure size 1000x500 with 1 Axes>"
      ]
     },
     "metadata": {},
     "output_type": "display_data"
    }
   ],
   "source": [
    "# Hitung jumlah transaksi per tanggal dan jenis kelamin\n",
    "transaksi_kelamin = df.groupby(['Tanggal Penjualan', 'Jenis Kelamin']).size().reset_index(name='Jumlah Transaksi')\n",
    "\n",
    "plt.figure(figsize=(10,5))\n",
    "sns.lineplot(data=transaksi_kelamin, x='Tanggal Penjualan', y='Jumlah Transaksi', hue='Jenis Kelamin', marker='o')\n",
    "plt.title('Tren Transaksi Harian Berdasarkan Jenis Kelamin')\n",
    "plt.xlabel('Tanggal')\n",
    "plt.ylabel('Jumlah Transaksi')\n",
    "plt.grid(True)\n",
    "plt.tight_layout()\n",
    "plt.show()"
   ]
  },
  {
   "cell_type": "code",
   "execution_count": 29,
   "id": "befd7c9b",
   "metadata": {},
   "outputs": [
    {
     "data": {
      "text/html": [
       "<div>\n",
       "<style scoped>\n",
       "    .dataframe tbody tr th:only-of-type {\n",
       "        vertical-align: middle;\n",
       "    }\n",
       "\n",
       "    .dataframe tbody tr th {\n",
       "        vertical-align: top;\n",
       "    }\n",
       "\n",
       "    .dataframe thead th {\n",
       "        text-align: right;\n",
       "    }\n",
       "</style>\n",
       "<table border=\"1\" class=\"dataframe\">\n",
       "  <thead>\n",
       "    <tr style=\"text-align: right;\">\n",
       "      <th></th>\n",
       "      <th>Faktur</th>\n",
       "      <th>Tanggal Penjualan</th>\n",
       "      <th>Jenis Kelamin</th>\n",
       "      <th>Jenis Barang</th>\n",
       "      <th>Jumlah</th>\n",
       "      <th>Harga Satuan</th>\n",
       "    </tr>\n",
       "  </thead>\n",
       "  <tbody>\n",
       "    <tr>\n",
       "      <th>0</th>\n",
       "      <td>F001</td>\n",
       "      <td>2023-01-15</td>\n",
       "      <td>Pria</td>\n",
       "      <td>Elektronik</td>\n",
       "      <td>2</td>\n",
       "      <td>500000</td>\n",
       "    </tr>\n",
       "    <tr>\n",
       "      <th>1</th>\n",
       "      <td>F002</td>\n",
       "      <td>2023-01-17</td>\n",
       "      <td>Wanita</td>\n",
       "      <td>Pakaian</td>\n",
       "      <td>1</td>\n",
       "      <td>200000</td>\n",
       "    </tr>\n",
       "    <tr>\n",
       "      <th>2</th>\n",
       "      <td>F003</td>\n",
       "      <td>2023-01-20</td>\n",
       "      <td>Pria</td>\n",
       "      <td>Elektronik</td>\n",
       "      <td>1</td>\n",
       "      <td>500000</td>\n",
       "    </tr>\n",
       "    <tr>\n",
       "      <th>3</th>\n",
       "      <td>F004</td>\n",
       "      <td>2023-01-22</td>\n",
       "      <td>Wanita</td>\n",
       "      <td>Kosmetik</td>\n",
       "      <td>3</td>\n",
       "      <td>100000</td>\n",
       "    </tr>\n",
       "    <tr>\n",
       "      <th>4</th>\n",
       "      <td>F005</td>\n",
       "      <td>2023-01-25</td>\n",
       "      <td>Pria</td>\n",
       "      <td>Pakaian</td>\n",
       "      <td>2</td>\n",
       "      <td>200000</td>\n",
       "    </tr>\n",
       "    <tr>\n",
       "      <th>5</th>\n",
       "      <td>F006</td>\n",
       "      <td>2023-01-28</td>\n",
       "      <td>Wanita</td>\n",
       "      <td>Elektronik</td>\n",
       "      <td>1</td>\n",
       "      <td>500000</td>\n",
       "    </tr>\n",
       "  </tbody>\n",
       "</table>\n",
       "</div>"
      ],
      "text/plain": [
       "  Faktur Tanggal Penjualan Jenis Kelamin Jenis Barang  Jumlah  Harga Satuan\n",
       "0   F001        2023-01-15          Pria   Elektronik       2        500000\n",
       "1   F002        2023-01-17        Wanita      Pakaian       1        200000\n",
       "2   F003        2023-01-20          Pria   Elektronik       1        500000\n",
       "3   F004        2023-01-22        Wanita     Kosmetik       3        100000\n",
       "4   F005        2023-01-25          Pria      Pakaian       2        200000\n",
       "5   F006        2023-01-28        Wanita   Elektronik       1        500000"
      ]
     },
     "execution_count": 29,
     "metadata": {},
     "output_type": "execute_result"
    }
   ],
   "source": [
    "#Menampilkan semua baris dan semua kolom\n",
    "df.loc[:, :]\n",
    "df.loc[:,]\n",
    "df.iloc[:, :]"
   ]
  },
  {
   "cell_type": "markdown",
   "id": "62530ed1",
   "metadata": {},
   "source": [
    "# <center><div style=\"font-family: Arial; font-size: 20px; border-radius: 5px; background-color: #40a2adff; padding: 2px; line-height: 2.0; color: #FFFFFF; text-align: line-height;\">6. Memfilter Data</div></center>"
   ]
  },
  {
   "cell_type": "code",
   "execution_count": 30,
   "id": "8268d225",
   "metadata": {},
   "outputs": [
    {
     "data": {
      "text/html": [
       "<div>\n",
       "<style scoped>\n",
       "    .dataframe tbody tr th:only-of-type {\n",
       "        vertical-align: middle;\n",
       "    }\n",
       "\n",
       "    .dataframe tbody tr th {\n",
       "        vertical-align: top;\n",
       "    }\n",
       "\n",
       "    .dataframe thead th {\n",
       "        text-align: right;\n",
       "    }\n",
       "</style>\n",
       "<table border=\"1\" class=\"dataframe\">\n",
       "  <thead>\n",
       "    <tr style=\"text-align: right;\">\n",
       "      <th></th>\n",
       "      <th>Faktur</th>\n",
       "      <th>Tanggal Penjualan</th>\n",
       "      <th>Jenis Kelamin</th>\n",
       "      <th>Jenis Barang</th>\n",
       "      <th>Jumlah</th>\n",
       "      <th>Harga Satuan</th>\n",
       "    </tr>\n",
       "  </thead>\n",
       "  <tbody>\n",
       "  </tbody>\n",
       "</table>\n",
       "</div>"
      ],
      "text/plain": [
       "Empty DataFrame\n",
       "Columns: [Faktur, Tanggal Penjualan, Jenis Kelamin, Jenis Barang, Jumlah, Harga Satuan]\n",
       "Index: []"
      ]
     },
     "execution_count": 30,
     "metadata": {},
     "output_type": "execute_result"
    }
   ],
   "source": [
    "#P13.2 memilih milih Teks\n",
    "df[df['Jenis Kelamin'].str.contains('Pria')]\n",
    "df[df['Jenis Kelamin'].str.contains('Wanita')]\n",
    "\n",
    "#Abaikan Huruf Besar/Kecil\n",
    "df[df['Jenis Kelamin'].str.contains('in')]\n",
    "\n",
    "import re\n",
    "\n",
    "df[df['Jenis Barang'].str.contains('in', flags=re.IGNORECASE)]\n"
   ]
  },
  {
   "cell_type": "code",
   "execution_count": 31,
   "id": "cc40c75a",
   "metadata": {},
   "outputs": [
    {
     "data": {
      "text/html": [
       "<div>\n",
       "<style scoped>\n",
       "    .dataframe tbody tr th:only-of-type {\n",
       "        vertical-align: middle;\n",
       "    }\n",
       "\n",
       "    .dataframe tbody tr th {\n",
       "        vertical-align: top;\n",
       "    }\n",
       "\n",
       "    .dataframe thead th {\n",
       "        text-align: right;\n",
       "    }\n",
       "</style>\n",
       "<table border=\"1\" class=\"dataframe\">\n",
       "  <thead>\n",
       "    <tr style=\"text-align: right;\">\n",
       "      <th></th>\n",
       "      <th>Faktur</th>\n",
       "      <th>Tanggal Penjualan</th>\n",
       "      <th>Jenis Kelamin</th>\n",
       "      <th>Jenis Barang</th>\n",
       "      <th>Jumlah</th>\n",
       "      <th>Harga Satuan</th>\n",
       "    </tr>\n",
       "  </thead>\n",
       "  <tbody>\n",
       "    <tr>\n",
       "      <th>0</th>\n",
       "      <td>F001</td>\n",
       "      <td>2023-01-15</td>\n",
       "      <td>Pria</td>\n",
       "      <td>Elektronik</td>\n",
       "      <td>2</td>\n",
       "      <td>500000</td>\n",
       "    </tr>\n",
       "    <tr>\n",
       "      <th>3</th>\n",
       "      <td>F004</td>\n",
       "      <td>2023-01-22</td>\n",
       "      <td>Wanita</td>\n",
       "      <td>Kosmetik</td>\n",
       "      <td>3</td>\n",
       "      <td>100000</td>\n",
       "    </tr>\n",
       "    <tr>\n",
       "      <th>4</th>\n",
       "      <td>F005</td>\n",
       "      <td>2023-01-25</td>\n",
       "      <td>Pria</td>\n",
       "      <td>Pakaian</td>\n",
       "      <td>2</td>\n",
       "      <td>200000</td>\n",
       "    </tr>\n",
       "  </tbody>\n",
       "</table>\n",
       "</div>"
      ],
      "text/plain": [
       "  Faktur Tanggal Penjualan Jenis Kelamin Jenis Barang  Jumlah  Harga Satuan\n",
       "0   F001        2023-01-15          Pria   Elektronik       2        500000\n",
       "3   F004        2023-01-22        Wanita     Kosmetik       3        100000\n",
       "4   F005        2023-01-25          Pria      Pakaian       2        200000"
      ]
     },
     "execution_count": 31,
     "metadata": {},
     "output_type": "execute_result"
    }
   ],
   "source": [
    "#Memilih Data yang Berada di List/Dataframe Lain\n",
    "#Menampilkan kolom jumlah pada file penjualan yang bernilai 3 dan 2\n",
    "Jumlah_Faktur = [3, 2]\n",
    "df[df['Jumlah'].isin(Jumlah_Faktur)]"
   ]
  },
  {
   "cell_type": "code",
   "execution_count": 32,
   "id": "94efa83e",
   "metadata": {},
   "outputs": [
    {
     "name": "stdout",
     "output_type": "stream",
     "text": [
      "   Jumlah\n",
      "0       2\n",
      "4       2\n"
     ]
    },
    {
     "data": {
      "text/html": [
       "<div>\n",
       "<style scoped>\n",
       "    .dataframe tbody tr th:only-of-type {\n",
       "        vertical-align: middle;\n",
       "    }\n",
       "\n",
       "    .dataframe tbody tr th {\n",
       "        vertical-align: top;\n",
       "    }\n",
       "\n",
       "    .dataframe thead th {\n",
       "        text-align: right;\n",
       "    }\n",
       "</style>\n",
       "<table border=\"1\" class=\"dataframe\">\n",
       "  <thead>\n",
       "    <tr style=\"text-align: right;\">\n",
       "      <th></th>\n",
       "      <th>Jumlah</th>\n",
       "    </tr>\n",
       "  </thead>\n",
       "  <tbody>\n",
       "    <tr>\n",
       "      <th>1</th>\n",
       "      <td>1</td>\n",
       "    </tr>\n",
       "    <tr>\n",
       "      <th>2</th>\n",
       "      <td>1</td>\n",
       "    </tr>\n",
       "    <tr>\n",
       "      <th>3</th>\n",
       "      <td>3</td>\n",
       "    </tr>\n",
       "    <tr>\n",
       "      <th>5</th>\n",
       "      <td>1</td>\n",
       "    </tr>\n",
       "  </tbody>\n",
       "</table>\n",
       "</div>"
      ],
      "text/plain": [
       "   Jumlah\n",
       "1       1\n",
       "2       1\n",
       "3       3\n",
       "5       1"
      ]
     },
     "execution_count": 32,
     "metadata": {},
     "output_type": "execute_result"
    }
   ],
   "source": [
    "#P13 memilih berdasarkan satu kondisi\n",
    "\n",
    "import pandas as pd\n",
    "\n",
    "data = {\n",
    "    'Jumlah': [2, 1, 1, 3, 2, 1]\n",
    "}\n",
    "df = pd.DataFrame(data)\n",
    "\n",
    "#P13.1 memilih angka\n",
    "\n",
    "#1. Sama dengan\n",
    "hasil = df[df['Jumlah'] == 2]\n",
    "print(hasil)\n",
    "\n",
    "#2. Memilih Angka tidak sama dengan\n",
    "df[df['Jumlah'] != 2]\n",
    "df[df.Jumlah.ne(2)]\n",
    "df[~(df['Jumlah'] == 2)]"
   ]
  },
  {
   "cell_type": "code",
   "execution_count": 33,
   "id": "a9da4e6e",
   "metadata": {},
   "outputs": [
    {
     "data": {
      "text/html": [
       "<div>\n",
       "<style scoped>\n",
       "    .dataframe tbody tr th:only-of-type {\n",
       "        vertical-align: middle;\n",
       "    }\n",
       "\n",
       "    .dataframe tbody tr th {\n",
       "        vertical-align: top;\n",
       "    }\n",
       "\n",
       "    .dataframe thead th {\n",
       "        text-align: right;\n",
       "    }\n",
       "</style>\n",
       "<table border=\"1\" class=\"dataframe\">\n",
       "  <thead>\n",
       "    <tr style=\"text-align: right;\">\n",
       "      <th></th>\n",
       "      <th>Jumlah</th>\n",
       "    </tr>\n",
       "  </thead>\n",
       "  <tbody>\n",
       "    <tr>\n",
       "      <th>3</th>\n",
       "      <td>3</td>\n",
       "    </tr>\n",
       "  </tbody>\n",
       "</table>\n",
       "</div>"
      ],
      "text/plain": [
       "   Jumlah\n",
       "3       3"
      ]
     },
     "execution_count": 33,
     "metadata": {},
     "output_type": "execute_result"
    }
   ],
   "source": [
    "#3. Memilih Angka Lebih Dari\n",
    "df[df['Jumlah'] > 2]\n",
    "df[df.Jumlah.gt(2)]"
   ]
  },
  {
   "cell_type": "code",
   "execution_count": 34,
   "id": "3e8c6c6e",
   "metadata": {},
   "outputs": [
    {
     "data": {
      "text/html": [
       "<div>\n",
       "<style scoped>\n",
       "    .dataframe tbody tr th:only-of-type {\n",
       "        vertical-align: middle;\n",
       "    }\n",
       "\n",
       "    .dataframe tbody tr th {\n",
       "        vertical-align: top;\n",
       "    }\n",
       "\n",
       "    .dataframe thead th {\n",
       "        text-align: right;\n",
       "    }\n",
       "</style>\n",
       "<table border=\"1\" class=\"dataframe\">\n",
       "  <thead>\n",
       "    <tr style=\"text-align: right;\">\n",
       "      <th></th>\n",
       "      <th>Jumlah</th>\n",
       "    </tr>\n",
       "  </thead>\n",
       "  <tbody>\n",
       "    <tr>\n",
       "      <th>0</th>\n",
       "      <td>2</td>\n",
       "    </tr>\n",
       "    <tr>\n",
       "      <th>3</th>\n",
       "      <td>3</td>\n",
       "    </tr>\n",
       "    <tr>\n",
       "      <th>4</th>\n",
       "      <td>2</td>\n",
       "    </tr>\n",
       "  </tbody>\n",
       "</table>\n",
       "</div>"
      ],
      "text/plain": [
       "   Jumlah\n",
       "0       2\n",
       "3       3\n",
       "4       2"
      ]
     },
     "execution_count": 34,
     "metadata": {},
     "output_type": "execute_result"
    }
   ],
   "source": [
    "#4. Memilih Lebih Dari atau Sama Dengan\n",
    "df[df['Jumlah'] >= 2]\n",
    "df[df.Jumlah.ge(2)]"
   ]
  },
  {
   "cell_type": "code",
   "execution_count": 35,
   "id": "a9c585e1",
   "metadata": {},
   "outputs": [
    {
     "data": {
      "text/html": [
       "<div>\n",
       "<style scoped>\n",
       "    .dataframe tbody tr th:only-of-type {\n",
       "        vertical-align: middle;\n",
       "    }\n",
       "\n",
       "    .dataframe tbody tr th {\n",
       "        vertical-align: top;\n",
       "    }\n",
       "\n",
       "    .dataframe thead th {\n",
       "        text-align: right;\n",
       "    }\n",
       "</style>\n",
       "<table border=\"1\" class=\"dataframe\">\n",
       "  <thead>\n",
       "    <tr style=\"text-align: right;\">\n",
       "      <th></th>\n",
       "      <th>Jumlah</th>\n",
       "    </tr>\n",
       "  </thead>\n",
       "  <tbody>\n",
       "    <tr>\n",
       "      <th>1</th>\n",
       "      <td>1</td>\n",
       "    </tr>\n",
       "    <tr>\n",
       "      <th>2</th>\n",
       "      <td>1</td>\n",
       "    </tr>\n",
       "    <tr>\n",
       "      <th>5</th>\n",
       "      <td>1</td>\n",
       "    </tr>\n",
       "  </tbody>\n",
       "</table>\n",
       "</div>"
      ],
      "text/plain": [
       "   Jumlah\n",
       "1       1\n",
       "2       1\n",
       "5       1"
      ]
     },
     "execution_count": 35,
     "metadata": {},
     "output_type": "execute_result"
    }
   ],
   "source": [
    "#5. Memilih Kurang Dari atau Sama Dengan\n",
    "df[df['Jumlah'] < 2]\n",
    "df[df.Jumlah.lt(2)]"
   ]
  },
  {
   "cell_type": "code",
   "execution_count": 36,
   "id": "20a9a79e",
   "metadata": {},
   "outputs": [
    {
     "data": {
      "text/html": [
       "<div>\n",
       "<style scoped>\n",
       "    .dataframe tbody tr th:only-of-type {\n",
       "        vertical-align: middle;\n",
       "    }\n",
       "\n",
       "    .dataframe tbody tr th {\n",
       "        vertical-align: top;\n",
       "    }\n",
       "\n",
       "    .dataframe thead th {\n",
       "        text-align: right;\n",
       "    }\n",
       "</style>\n",
       "<table border=\"1\" class=\"dataframe\">\n",
       "  <thead>\n",
       "    <tr style=\"text-align: right;\">\n",
       "      <th></th>\n",
       "      <th>Jumlah</th>\n",
       "    </tr>\n",
       "  </thead>\n",
       "  <tbody>\n",
       "    <tr>\n",
       "      <th>0</th>\n",
       "      <td>2</td>\n",
       "    </tr>\n",
       "    <tr>\n",
       "      <th>1</th>\n",
       "      <td>1</td>\n",
       "    </tr>\n",
       "    <tr>\n",
       "      <th>2</th>\n",
       "      <td>1</td>\n",
       "    </tr>\n",
       "    <tr>\n",
       "      <th>4</th>\n",
       "      <td>2</td>\n",
       "    </tr>\n",
       "    <tr>\n",
       "      <th>5</th>\n",
       "      <td>1</td>\n",
       "    </tr>\n",
       "  </tbody>\n",
       "</table>\n",
       "</div>"
      ],
      "text/plain": [
       "   Jumlah\n",
       "0       2\n",
       "1       1\n",
       "2       1\n",
       "4       2\n",
       "5       1"
      ]
     },
     "execution_count": 36,
     "metadata": {},
     "output_type": "execute_result"
    }
   ],
   "source": [
    "# 6. Memilih Kurang Dari atau Sama Dengan\n",
    "df[df['Jumlah'] <= 2]\n",
    "df[df.Jumlah.le(2)]"
   ]
  },
  {
   "cell_type": "code",
   "execution_count": 37,
   "id": "95a4bed7",
   "metadata": {},
   "outputs": [
    {
     "data": {
      "image/png": "[encoded data removed]",
      "text/plain": [
       "<Figure size 500x500 with 1 Axes>"
      ]
     },
     "metadata": {},
     "output_type": "display_data"
    }
   ],
   "source": [
    "#P.14 membuat kategori tinggi dan rendah\n",
    "d = {'tinggi': [290, 150], 'rendah': [22, 77]}\n",
    "\n",
    "df1 = pd.DataFrame(data=d)\n",
    "df1\n",
    "\n",
    "total = [df1['tinggi'].sum(), df1['rendah'].sum()]\n",
    "labels = ['Tinggi', 'Rendah']\n",
    "\n",
    "plt.figure(figsize=(5,5))\n",
    "plt.pie(total, labels=labels, autopct='%1.1f%%', colors=['lightgreen', 'lightcoral'], startangle=90)\n",
    "plt.title('Proporsi Total Tinggi vs Rendah')\n",
    "plt.tight_layout()\n",
    "plt.show()"
   ]
  },
  {
   "cell_type": "code",
   "execution_count": 38,
   "id": "cb067e64",
   "metadata": {},
   "outputs": [
    {
     "data": {
      "text/html": [
       "<div>\n",
       "<style scoped>\n",
       "    .dataframe tbody tr th:only-of-type {\n",
       "        vertical-align: middle;\n",
       "    }\n",
       "\n",
       "    .dataframe tbody tr th {\n",
       "        vertical-align: top;\n",
       "    }\n",
       "\n",
       "    .dataframe thead th {\n",
       "        text-align: right;\n",
       "    }\n",
       "</style>\n",
       "<table border=\"1\" class=\"dataframe\">\n",
       "  <thead>\n",
       "    <tr style=\"text-align: right;\">\n",
       "      <th></th>\n",
       "      <th>Jumlah</th>\n",
       "    </tr>\n",
       "  </thead>\n",
       "  <tbody>\n",
       "  </tbody>\n",
       "</table>\n",
       "</div>"
      ],
      "text/plain": [
       "Empty DataFrame\n",
       "Columns: [Jumlah]\n",
       "Index: []"
      ]
     },
     "execution_count": 38,
     "metadata": {},
     "output_type": "execute_result"
    }
   ],
   "source": [
    "df[df['Jumlah'].isin(df1['tinggi'])]\n",
    "df1 = pd.DataFrame({'tinggi': [290, 150]})\n",
    "df2 = pd.DataFrame({'rendah': [22, 77]})\n",
    "\n",
    "#COBA JUGA INI\n",
    "df[df['Jumlah'].isin(df2['rendah'])]"
   ]
  },
  {
   "cell_type": "code",
   "execution_count": 39,
   "id": "77258d05",
   "metadata": {},
   "outputs": [
    {
     "data": {
      "text/html": [
       "<div>\n",
       "<style scoped>\n",
       "    .dataframe tbody tr th:only-of-type {\n",
       "        vertical-align: middle;\n",
       "    }\n",
       "\n",
       "    .dataframe tbody tr th {\n",
       "        vertical-align: top;\n",
       "    }\n",
       "\n",
       "    .dataframe thead th {\n",
       "        text-align: right;\n",
       "    }\n",
       "</style>\n",
       "<table border=\"1\" class=\"dataframe\">\n",
       "  <thead>\n",
       "    <tr style=\"text-align: right;\">\n",
       "      <th></th>\n",
       "      <th>Jumlah</th>\n",
       "    </tr>\n",
       "  </thead>\n",
       "  <tbody>\n",
       "    <tr>\n",
       "      <th>0</th>\n",
       "      <td>2</td>\n",
       "    </tr>\n",
       "    <tr>\n",
       "      <th>4</th>\n",
       "      <td>2</td>\n",
       "    </tr>\n",
       "  </tbody>\n",
       "</table>\n",
       "</div>"
      ],
      "text/plain": [
       "   Jumlah\n",
       "0       2\n",
       "4       2"
      ]
     },
     "execution_count": 39,
     "metadata": {},
     "output_type": "execute_result"
    }
   ],
   "source": [
    "#Memilih lebih dari satu kondisi\n",
    "#Memilih diantara dua rentang nilai\n",
    "\n",
    "df[(df['Jumlah'] > 1) & (df['Jumlah'] < 3)]"
   ]
  },
  {
   "cell_type": "code",
   "execution_count": 40,
   "id": "cf65bad0",
   "metadata": {},
   "outputs": [
    {
     "name": "stdout",
     "output_type": "stream",
     "text": [
      "Hasil filter:\n",
      "  Faktur Tanggal Penjualan Jenis Kelamin Jenis Barang  Jumlah  Harga Satuan\n",
      "0   F001        2023-01-15          Pria   Elektronik       2        500000\n",
      "2   F003        2023-01-20        Wanita   Elektronik       1        500000\n",
      "3   F004        2023-01-20        Wanita     Kosmetik       3        100000\n",
      "4   F005        2023-01-25          Pria      Pakaian       2        200000\n",
      "5   F006        2023-01-28        Wanita   Elektronik       1        500000\n"
     ]
    },
    {
     "data": {
      "text/html": [
       "<div>\n",
       "<style scoped>\n",
       "    .dataframe tbody tr th:only-of-type {\n",
       "        vertical-align: middle;\n",
       "    }\n",
       "\n",
       "    .dataframe tbody tr th {\n",
       "        vertical-align: top;\n",
       "    }\n",
       "\n",
       "    .dataframe thead th {\n",
       "        text-align: right;\n",
       "    }\n",
       "</style>\n",
       "<table border=\"1\" class=\"dataframe\">\n",
       "  <thead>\n",
       "    <tr style=\"text-align: right;\">\n",
       "      <th></th>\n",
       "      <th>Jumlah</th>\n",
       "      <th>Harga Satuan</th>\n",
       "    </tr>\n",
       "  </thead>\n",
       "  <tbody>\n",
       "    <tr>\n",
       "      <th>count</th>\n",
       "      <td>6.000000</td>\n",
       "      <td>6.000000</td>\n",
       "    </tr>\n",
       "    <tr>\n",
       "      <th>mean</th>\n",
       "      <td>1.666667</td>\n",
       "      <td>333333.333333</td>\n",
       "    </tr>\n",
       "    <tr>\n",
       "      <th>std</th>\n",
       "      <td>0.816497</td>\n",
       "      <td>186189.867250</td>\n",
       "    </tr>\n",
       "    <tr>\n",
       "      <th>min</th>\n",
       "      <td>1.000000</td>\n",
       "      <td>100000.000000</td>\n",
       "    </tr>\n",
       "    <tr>\n",
       "      <th>25%</th>\n",
       "      <td>1.000000</td>\n",
       "      <td>200000.000000</td>\n",
       "    </tr>\n",
       "    <tr>\n",
       "      <th>50%</th>\n",
       "      <td>1.500000</td>\n",
       "      <td>350000.000000</td>\n",
       "    </tr>\n",
       "    <tr>\n",
       "      <th>75%</th>\n",
       "      <td>2.000000</td>\n",
       "      <td>500000.000000</td>\n",
       "    </tr>\n",
       "    <tr>\n",
       "      <th>max</th>\n",
       "      <td>3.000000</td>\n",
       "      <td>500000.000000</td>\n",
       "    </tr>\n",
       "  </tbody>\n",
       "</table>\n",
       "</div>"
      ],
      "text/plain": [
       "         Jumlah   Harga Satuan\n",
       "count  6.000000       6.000000\n",
       "mean   1.666667  333333.333333\n",
       "std    0.816497  186189.867250\n",
       "min    1.000000  100000.000000\n",
       "25%    1.000000  200000.000000\n",
       "50%    1.500000  350000.000000\n",
       "75%    2.000000  500000.000000\n",
       "max    3.000000  500000.000000"
      ]
     },
     "execution_count": 40,
     "metadata": {},
     "output_type": "execute_result"
    }
   ],
   "source": [
    "import pandas as pd\n",
    "import re\n",
    "\n",
    "data = {\n",
    "    'Faktur': ['F001', 'F002', 'F003', 'F004', 'F005', 'F006'],\n",
    "    'Tanggal Penjualan': ['2023-01-15', '2023-01-17', '2023-01-20', '2023-01-20', '2023-01-25', '2023-01-28'],\n",
    "    'Jenis Kelamin': ['Pria', 'Pria', 'Wanita', 'Wanita', 'Pria', 'Wanita'],\n",
    "    'Jenis Barang': ['Elektronik', 'Pakaian', 'Elektronik', 'Kosmetik', 'Pakaian', 'Elektronik'],\n",
    "    'Jumlah': [2, 1, 1, 3, 2, 1],\n",
    "    'Harga Satuan': [500000, 200000, 500000, 100000, 200000, 500000]\n",
    "}\n",
    "\n",
    "df = pd.DataFrame(data)\n",
    "\n",
    "filtered_df = df[df['Jenis Barang'].str.contains('on', flags=re.IGNORECASE) | (df['Jumlah'] > 1)]\n",
    "\n",
    "print(\"Hasil filter:\")\n",
    "print(filtered_df)\n",
    "\n",
    "df.describe()"
   ]
  },
  {
   "cell_type": "markdown",
   "id": "a8e8ea8c",
   "metadata": {},
   "source": [
    "# <center><div style=\"font-family: Arial; font-size: 20px; border-radius: 5px; background-color: #40a2adff; padding: 2px; line-height: 2.0; color: #FFFFFF; text-align: line-height;\">7. Metode-metode Pandas</div></center>"
   ]
  },
  {
   "cell_type": "code",
   "execution_count": 41,
   "id": "9c01b9a3",
   "metadata": {},
   "outputs": [
    {
     "name": "stdout",
     "output_type": "stream",
     "text": [
      "0    kecil\n",
      "1    kecil\n",
      "2    kecil\n",
      "3    kecil\n",
      "4    kecil\n",
      "5    kecil\n",
      "6    kecil\n",
      "7    kecil\n",
      "8    kecil\n",
      "9    besar\n",
      "dtype: object\n",
      "<class 'pandas.core.frame.DataFrame'>\n",
      "RangeIndex: 6 entries, 0 to 5\n",
      "Data columns (total 6 columns):\n",
      " #   Column             Non-Null Count  Dtype \n",
      "---  ------             --------------  ----- \n",
      " 0   Faktur             6 non-null      object\n",
      " 1   Tanggal Penjualan  6 non-null      object\n",
      " 2   Jenis Kelamin      6 non-null      object\n",
      " 3   Jenis Barang       6 non-null      object\n",
      " 4   Jumlah             6 non-null      int64 \n",
      " 5   Harga Satuan       6 non-null      int64 \n",
      "dtypes: int64(2), object(4)\n",
      "memory usage: 420.0+ bytes\n"
     ]
    }
   ],
   "source": [
    "import pandas as pd\n",
    "\n",
    "#Metode apply menjalankan fungsi pada setiap elemen dalam Series\n",
    "data = [10, 29, 50, 55, 60, 69, 73, 81, 91, 99]\n",
    "d_int = pd.Series(data)\n",
    "\n",
    "#Fungsi untuk mengelompokkan angka\n",
    "def kecilbesar(num):\n",
    "    if num < 99:\n",
    "        return \"kecil\"\n",
    "    elif num >= 10 and num < 99:\n",
    "        return \"sedang\"\n",
    "    else:\n",
    "        return \"besar\"\n",
    "\n",
    "#Terapkan fungsi ke setiap elemen Series\n",
    "kategori = d_int.apply(kecilbesar)\n",
    "print(kategori)\n",
    "df.info()"
   ]
  }
 ],
 "metadata": {
  "kernelspec": {
   "display_name": "env",
   "language": "python",
   "name": "python3"
  },
  "language_info": {
   "codemirror_mode": {
    "name": "ipython",
    "version": 3
   },
   "file_extension": ".py",
   "mimetype": "text/x-python",
   "name": "python",
   "nbconvert_exporter": "python",
   "pygments_lexer": "ipython3",
   "version": "3.11.9"
  }
 },
 "nbformat": 4,
 "nbformat_minor": 5
}
